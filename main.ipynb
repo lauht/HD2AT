{
 "cells": [
  {
   "cell_type": "code",
   "execution_count": 4,
   "metadata": {},
   "outputs": [],
   "source": [
    "import os\n",
    "import math\n",
    "import time\n",
    "import datetime\n",
    "import argparse\n",
    "\n",
    "import numpy as np\n",
    "import pandas as pd\n",
    "from tqdm import tqdm\n",
    "from sklearn import metrics\n",
    "import seaborn as sns\n",
    "import matplotlib.pyplot as plt\n",
    "\n",
    "import torch\n",
    "import torch.nn as nn\n",
    "import torch.nn.functional as F\n",
    "import torch.optim as optim\n",
    "\n",
    "import talib as ta\n",
    "import qlib\n",
    "from qlib.data import D\n",
    "from qlib.data.dataset.loader import QlibDataLoader\n",
    "from qlib.constant import REG_CN, REG_US\n",
    "\n",
    "provider_uri = \"F:/qlib/qlib_data/us_data\" # data dir\n",
    "qlib.init(provider_uri=provider_uri, region=REG_US)\n",
    "torch.set_num_threads(6)"
   ]
  },
  {
   "cell_type": "code",
   "execution_count": 3,
   "metadata": {},
   "outputs": [],
   "source": [
    "from data_utlis import *\n",
    "from eval_utlis import *\n",
    "from model import HDAT, TotalLoss"
   ]
  },
  {
   "cell_type": "code",
   "execution_count": 3,
   "metadata": {},
   "outputs": [],
   "source": [
    "parser = argparse.ArgumentParser(description='Stock Forecasting')\n",
    "\n",
    "parser.add_argument('--prestart_time', type=str, default='2000-01-01')\n",
    "parser.add_argument('--start_time', type=str, default='2004-10-31')\n",
    "parser.add_argument('--end_time', type=str, default='2020-01-01')\n",
    "parser.add_argument('--lagend_time', type=str, default='2020-10-31')\n",
    "parser.add_argument('--save_path', type=str, default='./output')\n",
    "parser.add_argument('--adj_path', type=str, default='./adj_rolling')\n",
    "parser.add_argument('--lr', type=float, default=0.0001)\n",
    "parser.add_argument('--weight_decay', type=float, default=5e-4)\n",
    "parser.add_argument('--epochs', type=int, default=400)\n",
    "parser.add_argument('--device', type=str, default='cuda:1')\n",
    "parser.add_argument('--window_size', type=int, default=1)\n",
    "parser.add_argument('--window_size_o', type=int, default=1)\n",
    "\n",
    "args = parser.parse_args(args=[\n",
    "    '--save_path', './output',\n",
    "    '--window_size', '24', # Tr\n",
    "    '--window_size_o', '12', # To\n",
    "    '--prestart_time', '2013-06-01',\n",
    "    '--start_time', '2014-01-01',\n",
    "    '--end_time', '2019-12-31',\n",
    "    '--lagend_time', '2020-10-30',\n",
    "    '--device', 'cpu'\n",
    "    ])"
   ]
  },
  {
   "cell_type": "code",
   "execution_count": 4,
   "metadata": {},
   "outputs": [],
   "source": [
    "company_1 = []\n",
    "com_path = './company_pool.txt'\n",
    "with open(com_path, 'r', encoding='utf-8') as f:\n",
    "    for line in f:\n",
    "        line = line.replace(',', '')\n",
    "        company_1.append(line.strip())\n",
    "company_1.sort()\n",
    "\n",
    "company_pool = get_base_company(args=args)\n",
    "company_nonan, _ = get_stocks_nonan(company_1=company_pool, args=args)\n",
    "selected_tickers = company_1"
   ]
  },
  {
   "cell_type": "code",
   "execution_count": 5,
   "metadata": {},
   "outputs": [
    {
     "name": "stdout",
     "output_type": "stream",
     "text": [
      "Loading base technical data...\n",
      "Loading indicators...\n"
     ]
    }
   ],
   "source": [
    "## features\n",
    "rmv_feature_num = 6\n",
    "features, labels, company_final, final_timestamps = get_features_n_labels(args=args, selected_tickers=selected_tickers)\n",
    "binary_labels = (labels > 0) * torch.ones_like(labels)"
   ]
  },
  {
   "attachments": {},
   "cell_type": "markdown",
   "metadata": {},
   "source": [
    "## performance evaluation"
   ]
  },
  {
   "cell_type": "code",
   "execution_count": 1,
   "metadata": {},
   "outputs": [],
   "source": [
    "## hyper param\n",
    "learning_rate = 0.0001\n",
    "# weight_decay = 1e-4\n",
    "total_epoch = 500\n",
    "dropout = 0\n",
    "\n",
    "device = \"cuda:1\" if torch.cuda.is_available() else \"cpu\"\n",
    "print(\"Device: '{}'.\".format(device))"
   ]
  },
  {
   "cell_type": "code",
   "execution_count": 7,
   "metadata": {},
   "outputs": [],
   "source": [
    "def main(split_time, pprint):\n",
    "    ## test window\n",
    "    test_start = split_time[4]\n",
    "    test_end = split_time[5]\n",
    "\n",
    "    ## output path\n",
    "    output_path = args.save_path + '/' + test_start + '__' + test_end\n",
    "    model_filename = output_path + '/' + 'gdat.pt'\n",
    "    train_log_filename = output_path + '/' + 'gdat.txt'\n",
    "    if not os.path.exists(output_path):\n",
    "        os.makedirs(output_path)\n",
    "        print(\"Output dir '{}' has been created.\".format(output_path))\n",
    "    else:\n",
    "        print(\"Output dir '{}' is existed.\".format(output_path))\n",
    "\n",
    "    print(\"Creating model...\")\n",
    "    \n",
    "    n_feat = features.size(2) - rmv_feature_num\n",
    "\n",
    "    model = HDAT(n_feat=n_feat, dropout=dropout, args=args).to(device)\n",
    "\n",
    "    criterion = TotalLoss().to(device)\n",
    "    optimizer = optim.Adam(model.parameters(), lr=learning_rate) #, weight_decay=weight_decay)\n",
    "\n",
    "    scheduler = torch.optim.lr_scheduler.StepLR(optimizer, step_size=10, gamma=0.9)\n",
    "    print(\"Done.\")\n",
    "\n",
    "    evaluate(model, criterion, optimizer, scheduler, features, labels, final_timestamps, args, rmv_feature_num, split_time, train_log_filename, model_filename, total_epoch, pprint)"
   ]
  },
  {
   "cell_type": "code",
   "execution_count": 2,
   "metadata": {},
   "outputs": [],
   "source": [
    "day_start = '2019-02-01'\n",
    "rolling_months = 1\n",
    "for _ in range(100):\n",
    "    if day_start >= '2020-01-01':\n",
    "        break\n",
    "    print(day_start)\n",
    "    split_time = get_split_time(test_start=day_start, test_months_size=rolling_months)\n",
    "\n",
    "    main(split_time=split_time, pprint=False)\n",
    "    dt = datetime.datetime.strptime(day_start, '%Y-%m-%d')\n",
    "    dt = dt + relativedelta(months=rolling_months)\n",
    "    day_start = dt.strftime('%Y-%m-%d')"
   ]
  }
 ],
 "metadata": {
  "kernelspec": {
   "display_name": "py37",
   "language": "python",
   "name": "python3"
  },
  "language_info": {
   "codemirror_mode": {
    "name": "ipython",
    "version": 3
   },
   "file_extension": ".py",
   "mimetype": "text/x-python",
   "name": "python",
   "nbconvert_exporter": "python",
   "pygments_lexer": "ipython3",
   "version": "3.7.13"
  },
  "orig_nbformat": 4
 },
 "nbformat": 4,
 "nbformat_minor": 2
}
